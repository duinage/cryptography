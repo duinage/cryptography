{
 "cells": [
  {
   "cell_type": "markdown",
   "metadata": {},
   "source": [
    "### Vigenere cipher. Frequency cryptanalysis. (Ukrainian language).\n",
    "#### Author: Vadym Tunik."
   ]
  },
  {
   "cell_type": "code",
   "execution_count": 16,
   "metadata": {},
   "outputs": [],
   "source": [
    "import re\n",
    "from collections import Counter\n",
    "import matplotlib.pyplot as plt\n",
    "import numpy as np"
   ]
  },
  {
   "cell_type": "markdown",
   "metadata": {},
   "source": [
    "The cipher is based on the Ukrainian alphabet. Two Ukrainian classical literary texts were used as examples of the cipher's use."
   ]
  },
  {
   "cell_type": "code",
   "execution_count": 17,
   "metadata": {},
   "outputs": [
    {
     "data": {
      "text/plain": [
       "['Хіба ревуть воли, як ясла повні?\\n', 'Панас Мирний\\n', 'ЧАСТИНА ПЕРША\\n']"
      ]
     },
     "execution_count": 17,
     "metadata": {},
     "output_type": "execute_result"
    }
   ],
   "source": [
    "file_path = \"text.txt\"\n",
    "with open(file_path, mode='r', encoding=\"utf-8\") as file:\n",
    "    file_lines = file.readlines()\n",
    "\n",
    "file_lines[:3]"
   ]
  },
  {
   "cell_type": "code",
   "execution_count": 18,
   "metadata": {},
   "outputs": [],
   "source": [
    "letters=['а', 'б', 'в', 'г', 'ґ', 'д', 'е', 'є', 'ж', 'з', 'и', 'і', 'ї', 'й', 'к', 'л', 'м', 'н', 'о', 'п', 'р', 'с', 'т', 'у', 'ф', 'х','ц', 'ч', 'ш', 'щ', 'ь', 'ю', 'я']"
   ]
  },
  {
   "cell_type": "code",
   "execution_count": 19,
   "metadata": {},
   "outputs": [],
   "source": [
    "def clean_string(text:str) -> str:\n",
    "    \"\"\"\n",
    "    The function removes all characters, spaces, and numbers from the text and makes all letters lowercase.\n",
    "    \"\"\"\n",
    "    cleaned_text = re.sub(r'[\\s\\d\\W]', '', text.lower())\n",
    "    global letters\n",
    "    cleaned_text = ''.join(char for char in cleaned_text if char in letters)\n",
    "    return cleaned_text"
   ]
  },
  {
   "cell_type": "code",
   "execution_count": 20,
   "metadata": {},
   "outputs": [
    {
     "data": {
      "text/plain": [
       "'хібаревутьволиякяслаповніпанасмирнийчастинапершапо'"
      ]
     },
     "execution_count": 20,
     "metadata": {},
     "output_type": "execute_result"
    }
   ],
   "source": [
    "#we will process the text for further work\n",
    "clean_text = ''\n",
    "for line in file_lines:\n",
    "    clean_text += clean_string(line.rstrip())\n",
    "clean_text[:50]"
   ]
  },
  {
   "cell_type": "markdown",
   "metadata": {},
   "source": [
    "### Create a histogram of the frequency of letters in the text."
   ]
  },
  {
   "cell_type": "code",
   "execution_count": 21,
   "metadata": {},
   "outputs": [
    {
     "data": {
      "image/png": "[encoded data removed]",
      "text/plain": [
       "<Figure size 640x480 with 1 Axes>"
      ]
     },
     "metadata": {},
     "output_type": "display_data"
    }
   ],
   "source": [
    "counts = Counter(clean_text)\n",
    "letters = list(counts.keys())\n",
    "frequencies = np.array(list(counts.values()))\n",
    "text_len = len(clean_text)\n",
    "frequencies = frequencies/text_len #calculate the percentage of the letter in the text\n",
    "\n",
    "my_cmap = plt.get_cmap(\"viridis\")\n",
    "rescale = lambda x: (x - np.min(x)) / (np.max(x) - np.min(x))\n",
    "plt.bar(letters, frequencies, color=my_cmap(rescale(frequencies)))\n",
    "plt.xlabel('letter')\n",
    "plt.ylabel('frequency')\n",
    "plt.show()"
   ]
  },
  {
   "cell_type": "markdown",
   "metadata": {},
   "source": [
    "### Implement the Vigenere encryption algorithm."
   ]
  },
  {
   "cell_type": "code",
   "execution_count": 22,
   "metadata": {},
   "outputs": [
    {
     "name": "stdout",
     "output_type": "stream",
     "text": [
      "clean_text2[:50]='тарасбульбамиколагогольтарасбульбапереклавмиколаса'\n",
      "encrypted_text[:50]='фіщежфєаігіхмбжяонркчснїндкуїяснфнґртнусрхашшрцзчр'\n"
     ]
    }
   ],
   "source": [
    "def encrypt_text(text_origin:str, key='візерунок') -> str:\n",
    "    \"\"\"\n",
    "    The function implements Vigenere encryption and returns the encrypted text.\n",
    "    text_origin: plaintext without spaces, numbers, or symbols.\n",
    "    key: the key word of the cipher.\n",
    "    \"\"\"\n",
    "    assert 5 <= len(key) <= 20 , \"The key length is incorrect. The minimum key length is 5, the maximum is 20.\"\n",
    "    letters=['а', 'б', 'в', 'г', 'ґ', 'д', 'е', 'є', 'ж', 'з', 'и', 'і', 'ї', 'й', 'к', 'л', 'м', 'н', 'о', 'п', 'р', 'с', 'т', 'у', 'ф', 'х','ц', 'ч', 'ш', 'щ', 'ь', 'ю', 'я']\n",
    "    key_multiplier = (len(text_origin)//len(key)) + 1\n",
    "    text_key = key * key_multiplier\n",
    "\n",
    "    text_encrypted = ''\n",
    "    for i in range(len(text_origin)):\n",
    "        letter_origin = text_origin[i]\n",
    "        letter_key = text_key[i]\n",
    "        index_sum = (letters.index(letter_origin) + letters.index(letter_key))%len(letters)\n",
    "\n",
    "        text_encrypted += letters[index_sum]\n",
    "    \n",
    "    assert len(text_origin)==len(text_encrypted), \"The length of the encrypted text does not match the length of the original text\"\n",
    "    return text_encrypted\n",
    "\n",
    "\n",
    "with open('text2.txt', mode='r', encoding=\"utf-8\") as file:\n",
    "    file_lines = file.readlines()\n",
    "\n",
    "#process the text2 for further work\n",
    "clean_text2 = ''\n",
    "for line in file_lines:\n",
    "    clean_text2 += clean_string(line.rstrip())\n",
    "print(f'{clean_text2[:50]=}')\n",
    "\n",
    "encrypted_text = encrypt_text(clean_text2, 'візерунок')\n",
    "print(f'{encrypted_text[:50]=}')\n"
   ]
  },
  {
   "cell_type": "markdown",
   "metadata": {},
   "source": [
    "### Perform a cryptanalysis of the Wigener cipher and decrypt the proposed ciphertext without knowing the secret key."
   ]
  },
  {
   "cell_type": "code",
   "execution_count": 23,
   "metadata": {},
   "outputs": [
    {
     "data": {
      "text/plain": [
       "'ффіячдсррршхтжофгцсушузяеієшимьчжїлгтешвщохндршюгц'"
      ]
     },
     "execution_count": 23,
     "metadata": {},
     "output_type": "execute_result"
    }
   ],
   "source": [
    "def create_sequences(encrypted_text:str, key_length:int) -> list:\n",
    "    \"\"\"\n",
    "    The function splits the ciphertext into an array of \"periodic\" subtexts\n",
    "    encrypted_text: ciphertext\n",
    "    key_length: key length, i.e. period\n",
    "    \"\"\"\n",
    "    sequences_list = []\n",
    "    encrypt_text_len = len(encrypted_text)\n",
    "    for i in range(key_length):\n",
    "        sequence = ''\n",
    "        while i<encrypt_text_len:\n",
    "            sequence += encrypted_text[i]\n",
    "            i += key_length\n",
    "        sequences_list.append(sequence)\n",
    "    return sequences_list\n",
    "\n",
    "sequences = create_sequences(encrypted_text=encrypted_text, key_length=5)\n",
    "sequences[0][:50]"
   ]
  },
  {
   "cell_type": "code",
   "execution_count": 24,
   "metadata": {},
   "outputs": [
    {
     "data": {
      "image/png": "[encoded data removed]",
      "text/plain": [
       "<Figure size 640x480 with 1 Axes>"
      ]
     },
     "metadata": {},
     "output_type": "display_data"
    }
   ],
   "source": [
    "def calculate_IC(encrypted_text:str) -> float:\n",
    "    \"\"\"\n",
    "    The function calculates the Index Coincidences for a given string\n",
    "    \"\"\"\n",
    "    global letters\n",
    "    \n",
    "    IC = 0.\n",
    "    N = len(encrypted_text)\n",
    "    denominator = N * (N-1)\n",
    "    for letter in letters:\n",
    "        n = encrypted_text.count(letter)\n",
    "        numerator = n * (n-1)\n",
    "        IC += numerator/denominator\n",
    "    return IC\n",
    "\n",
    "\n",
    "def calculate_IC_means(encrypted_text:str) -> list:\n",
    "    \"\"\"\n",
    "    The function calculates the average Index Coincidences for the received subtexts for periods from 5 to 20 inclusive.\n",
    "    \"\"\"\n",
    "    IC_means = []\n",
    "    for key_length in range(5,21): \n",
    "        sequences = create_sequences(encrypted_text=encrypted_text, key_length=key_length)\n",
    "        sequences_IC = []\n",
    "        for sequence in sequences:\n",
    "            IC = calculate_IC(sequence)\n",
    "            sequences_IC.append(IC)\n",
    "        sequences_IC_mean = sum(sequences_IC)/len(sequences_IC)\n",
    "        IC_means.append(sequences_IC_mean)\n",
    "    return IC_means\n",
    "\n",
    "IC_means = calculate_IC_means(encrypted_text)\n",
    "plt.bar(list(range(5,21)), IC_means)\n",
    "plt.show()"
   ]
  },
  {
   "cell_type": "markdown",
   "metadata": {},
   "source": [
    "So, from the histogram, we can conclude that the key length is 9."
   ]
  },
  {
   "cell_type": "code",
   "execution_count": 25,
   "metadata": {},
   "outputs": [
    {
     "data": {
      "text/plain": [
       "9"
      ]
     },
     "execution_count": 25,
     "metadata": {},
     "output_type": "execute_result"
    }
   ],
   "source": [
    "IC_means = np.array(IC_means)\n",
    "IC_means = np.round(IC_means, 3)\n",
    "IC_max = max(IC_means)\n",
    "key_length = 5+np.where(IC_means == IC_max)[0][0]\n",
    "key_length"
   ]
  },
  {
   "cell_type": "code",
   "execution_count": 26,
   "metadata": {},
   "outputs": [
    {
     "data": {
      "text/plain": [
       "47465806.49461056"
      ]
     },
     "execution_count": 26,
     "metadata": {},
     "output_type": "execute_result"
    }
   ],
   "source": [
    "def calculate_Chi_squared(encrypted_text:str, frequencies:list) -> float:\n",
    "    \"\"\"\n",
    "    The function calculates chi-square statistics for text\n",
    "    encrypted_text: encrypted text\n",
    "    frequencies: a list with the frequencies of occurrence of the corresponding letter of the alphabet\n",
    "    \"\"\"\n",
    "    global letters\n",
    "    \n",
    "    encrypted_text_len = len(encrypted_text)\n",
    "    chi_squared = 0.\n",
    "    for i in range(len(letters)):\n",
    "        letter = letters[i]\n",
    "        C_i = encrypted_text.count(letter)\n",
    "        E_i = encrypted_text_len * frequencies[i]\n",
    "        chi_squared += (C_i - E_i)**2 / E_i\n",
    "\n",
    "    return chi_squared\n",
    "    \n",
    "calculate_Chi_squared(encrypted_text, frequencies)"
   ]
  },
  {
   "cell_type": "code",
   "execution_count": 27,
   "metadata": {},
   "outputs": [],
   "source": [
    "def decrypt_caesar(encrypted_text:str, shift:int) -> str:\n",
    "    letters=['а', 'б', 'в', 'г', 'ґ', 'д', 'е', 'є', 'ж', 'з', 'и', 'і', 'ї', 'й', 'к', 'л', 'м', 'н', 'о', 'п', 'р', 'с', 'т', 'у', 'ф', 'х','ц', 'ч', 'ш', 'щ', 'ь', 'ю', 'я']\n",
    "    decrypted_text = ''\n",
    "    for letter in encrypted_text:\n",
    "        index = (letters.index(letter) - shift)%len(letters)\n",
    "        decrypted_text += letters[index]\n",
    "    return decrypted_text"
   ]
  },
  {
   "cell_type": "markdown",
   "metadata": {},
   "source": [
    "Next steps:\n",
    "1. Create key_length = 9 \"periodic\" subtexts\n",
    "2. For each subtext, create every possible Caesar cipher\n",
    "3. Choose the Caesar cipher with the smallest chi-square for each subtext"
   ]
  },
  {
   "cell_type": "code",
   "execution_count": 28,
   "metadata": {},
   "outputs": [
    {
     "data": {
      "text/plain": [
       "'візерунок'"
      ]
     },
     "execution_count": 28,
     "metadata": {},
     "output_type": "execute_result"
    }
   ],
   "source": [
    "def find_key(encrypted_text:str, key_length:int) -> str:\n",
    "    \"\"\"\n",
    "    The function finds a key of a given length in a given ciphertext\n",
    "    encrypted_text: ciphertext\n",
    "    key_length: key length\n",
    "    \"\"\"\n",
    "    cipher_sequences = create_sequences(encrypted_text=encrypted_text, key_length=key_length)\n",
    "    letters=['а', 'б', 'в', 'г', 'ґ', 'д', 'е', 'є', 'ж', 'з', 'и', 'і', 'ї', 'й', 'к', 'л', 'м', 'н', 'о', 'п', 'р', 'с', 'т', 'у', 'ф', 'х','ц', 'ч', 'ш', 'щ', 'ь', 'ю', 'я']\n",
    "\n",
    "    key = ''\n",
    "    for sequence in cipher_sequences:\n",
    "        \n",
    "        chi_sq_list = []\n",
    "        for i in range(len(letters)):\n",
    "            decrypted_sequence = decrypt_caesar(sequence, i)\n",
    "            chi_sq = calculate_Chi_squared(decrypted_sequence, frequencies)\n",
    "            chi_sq_list.append(chi_sq)\n",
    "\n",
    "        key_letter_index = chi_sq_list.index(min(chi_sq_list))\n",
    "        key_letter = letters[key_letter_index]\n",
    "        key += key_letter\n",
    "\n",
    "    return key\n",
    "\n",
    "find_key(encrypted_text=encrypted_text, key_length=key_length)"
   ]
  },
  {
   "cell_type": "code",
   "execution_count": 29,
   "metadata": {},
   "outputs": [
    {
     "data": {
      "text/plain": [
       "'тарасбульбамиколагогольтарасбульбапереклавмиколаса'"
      ]
     },
     "execution_count": 29,
     "metadata": {},
     "output_type": "execute_result"
    }
   ],
   "source": [
    "def break_cipher(encrypted_text:str) -> str:\n",
    "    \"\"\"\n",
    "    The function cracks the Vigenere cipher without knowing the secret key.\n",
    "    encrypted_text: encrypted text\n",
    "    \"\"\"\n",
    "    letters=['а', 'б', 'в', 'г', 'ґ', 'д', 'е', 'є', 'ж', 'з', 'и', 'і', 'ї', 'й', 'к', 'л', 'м', 'н', 'о', 'п', 'р', 'с', 'т', 'у', 'ф', 'х','ц', 'ч', 'ш', 'щ', 'ь', 'ю', 'я']\n",
    "    IC_means = calculate_IC_means(encrypted_text)\n",
    "    IC_means = np.array(IC_means)\n",
    "    IC_means = np.round(IC_means, 3)\n",
    "    IC_max = max(IC_means)\n",
    "    key_length = 5+np.where(IC_means == IC_max)[0][0]\n",
    "    key = find_key(encrypted_text=encrypted_text, key_length=key_length)\n",
    "\n",
    "    key_multiplier = (len(encrypted_text)//len(key)) + 1\n",
    "    text_key = key * key_multiplier\n",
    "\n",
    "    text_decrypted = ''\n",
    "    for i in range(len(encrypted_text)):\n",
    "        letter_origin = encrypted_text[i]\n",
    "        letter_key = text_key[i]\n",
    "        index_sum = (letters.index(letter_origin) + len(letters) - letters.index(letter_key))%len(letters)\n",
    "        text_decrypted += letters[index_sum]\n",
    "\n",
    "    return text_decrypted\n",
    "\n",
    "break_cipher(encrypted_text)[:50]"
   ]
  },
  {
   "cell_type": "markdown",
   "metadata": {},
   "source": [
    "So, as you can see, the decryption was successful."
   ]
  }
 ],
 "metadata": {
  "kernelspec": {
   "display_name": "Python 3",
   "language": "python",
   "name": "python3"
  },
  "language_info": {
   "codemirror_mode": {
    "name": "ipython",
    "version": 3
   },
   "file_extension": ".py",
   "mimetype": "text/x-python",
   "name": "python",
   "nbconvert_exporter": "python",
   "pygments_lexer": "ipython3",
   "version": "3.12.2"
  }
 },
 "nbformat": 4,
 "nbformat_minor": 2
}
