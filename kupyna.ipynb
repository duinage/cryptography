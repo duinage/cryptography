{
 "cells": [
  {
   "cell_type": "markdown",
   "metadata": {},
   "source": [
    "# Cryptographic hash function Kupyna\n",
    "## Author: Vadym Tunik"
   ]
  },
  {
   "cell_type": "markdown",
   "metadata": {},
   "source": [
    "### 1. Cryptographic hash functions Kupyna-256, Kupyna-384, and Kupyna-512."
   ]
  },
  {
   "cell_type": "code",
   "execution_count": 19,
   "metadata": {},
   "outputs": [
    {
     "name": "stdout",
     "output_type": "stream",
     "text": [
      "Kupyna-256: e605f72cebe8ab45b386a08c8f0a1965a346a1085e7f3a8f64c92e192341d9d8\n",
      "Kupyna-384: cb577ef639b88bed133dfc02b7333c2bc1725ff01e4bc10aa0643eca00363070917a6e4b67a06dd423fc6caaa5f1afa0\n",
      "Kupyna-512: b4065ae42a29f59caa6389f53782c29acb577ef639b88bed133dfc02b7333c2bc1725ff01e4bc10aa0643eca00363070917a6e4b67a06dd423fc6caaa5f1afa0\n"
     ]
    }
   ],
   "source": [
    "from Kupyna import Kupyna\n",
    "\n",
    "for hash_nbits in [256, 384, 512]:\n",
    "    m = \"GLORY_TO_UKRAINE\"\n",
    "    res = Kupyna(hash_nbits).hash(m) \n",
    "    print(f\"Kupyna-{hash_nbits}: {res}\")"
   ]
  },
  {
   "cell_type": "markdown",
   "metadata": {},
   "source": [
    "### 2. Avalanche effect."
   ]
  },
  {
   "cell_type": "markdown",
   "metadata": {},
   "source": [
    "The avalanche effect: a small change in the input should result in a significant change in the corresponding hash value. This ensures that even similar inputs produce different hash values, making it difficult to establish relationships between inputs based on their hashes.\n",
    "\n",
    "Pangram: A phrase, expression, or text that contains all letters of the alphabet. "
   ]
  },
  {
   "cell_type": "code",
   "execution_count": 20,
   "metadata": {},
   "outputs": [
    {
     "name": "stdout",
     "output_type": "stream",
     "text": [
      "Kupyna-256: number of changes = [60, 57, 57, 61, 56, 60, 63, 62, 60, 61, 58, 57, 61]\n",
      "Kupyna-384: number of changes = [93, 93, 89, 91, 90, 89, 89, 89, 89, 91, 84, 88, 86]\n",
      "Kupyna-512: number of changes = [118, 123, 124, 120, 125, 119, 119, 117, 121, 120, 119, 119, 121]\n"
     ]
    }
   ],
   "source": [
    "from numpy.random import randint\n",
    "\n",
    "pangrams = [\n",
    "    \"Щастям б'єш жук їх глицю в фон й ґедзь пріч\",\n",
    "    \"Факт ґринджол: бій псюг вщух, з'їм шче яєць.\",\n",
    "    \"З'їв аґрусу — та ягода цілюща б'є жах інфекцій шипучим „ь“.\",\n",
    "    \"Фабрикуймо гідність, лящім їжею, ґав хапаймо, з'єднавці чаш!\",\n",
    "    \"Юнкерський джинґл, що при безхліб'ї чує фашист, це ловця гімн.\",\n",
    "    \"Хвацький юшковар Філіп щодня на ґанку готує сім'ї вечерю з жаб.\",\n",
    "    \"В Бахчисараї фельд'єґер зумів одягнути ящірці жовтий капюшон!\",\n",
    "    \"На подушечці форми любої є й ґудзик щоб пір'я геть жовте сховати.\",\n",
    "    \"Щурячий бугай із їжаком-харцизом в'ючись підписали ґешефт у єнах.\",\n",
    "    \"Грішний джиґіт, що хотів у Францію, позбувався цієї думки з'їдаючи трюфель.\",\n",
    "    \"Десь чув, що той фраєр привіз їхньому царю грильяж та класну шубу з пір'я ґави.\",\n",
    "    \"Жебракують філософи при ґанку церкви в Гадячі, ще й шатро їхнє п'яне знаємо.\",\n",
    "    \"Протягом цієї п'ятирічки в ґрунт було висаджено гарбуз, шпинат та цілющий фенхель.\"\n",
    "]\n",
    "\n",
    "def compute_hashes(pangrams, hash_func):\n",
    "    hashes = []\n",
    "    for pangram in pangrams:\n",
    "        hash_value = hash_func.hash(pangram)\n",
    "        hashes.append(hash_value)\n",
    "    return hashes\n",
    "\n",
    "def modify_pangrams(pangrams):\n",
    "    modified_pangrams = []\n",
    "    for pangram in pangrams:\n",
    "        rnd_index = randint(0, len(pangram))\n",
    "        modified_pangram = pangram[rnd_index+1:] + pangram[:rnd_index]\n",
    "        modified_pangrams.append(modified_pangram)\n",
    "    return modified_pangrams\n",
    "\n",
    "def compare_hashes(original_hashes, modified_hashes):\n",
    "    compare_results = []\n",
    "    for orig_hash, mod_hash in zip(original_hashes, modified_hashes):\n",
    "        compare_results.append(sum(c1 != c2 for c1, c2 in zip(orig_hash, mod_hash)))\n",
    "    return compare_results\n",
    "\n",
    "\n",
    "for hash_nbits in [256, 384, 512]:\n",
    "    hash_func = Kupyna(hash_nbits)\n",
    "\n",
    "    hashes = compute_hashes(pangrams, hash_func)\n",
    "    modified_pangrams = modify_pangrams(pangrams)\n",
    "    new_hashes = compute_hashes(modified_pangrams, hash_func)\n",
    "    compare_results = compare_hashes(hashes, new_hashes)\n",
    "    print(f\"Kupyna-{hash_nbits}: number of changes = {compare_results}\")"
   ]
  },
  {
   "cell_type": "markdown",
   "metadata": {},
   "source": [
    "### 3. Algorithm for finding partial collisions for the first k bits of the hash sum, 5 ≤ k ≤ 15."
   ]
  },
  {
   "cell_type": "code",
   "execution_count": 22,
   "metadata": {},
   "outputs": [
    {
     "name": "stdout",
     "output_type": "stream",
     "text": [
      "Kupyna-256 5-bit: 0.0137 seconds\n",
      "Kupyna-256 6-bit: 0.0140 seconds\n",
      "Kupyna-256 7-bit: 0.0125 seconds\n",
      "Kupyna-256 8-bit: 0.0440 seconds\n",
      "Kupyna-256 9-bit: 0.0457 seconds\n",
      "Kupyna-256 10-bit: 0.0437 seconds\n",
      "Kupyna-256 11-bit: 0.0467 seconds\n",
      "Kupyna-256 12-bit: 0.2059 seconds\n",
      "Kupyna-256 13-bit: 0.1991 seconds\n",
      "Kupyna-256 14-bit: 0.1813 seconds\n",
      "Kupyna-256 15-bit: 0.1922 seconds\n",
      "Kupyna-384 5-bit: 0.0337 seconds\n",
      "Kupyna-384 6-bit: 0.0344 seconds\n",
      "Kupyna-384 7-bit: 0.0330 seconds\n",
      "Kupyna-384 8-bit: 0.1209 seconds\n",
      "Kupyna-384 9-bit: 0.1334 seconds\n",
      "Kupyna-384 10-bit: 0.1331 seconds\n",
      "Kupyna-384 11-bit: 0.1334 seconds\n",
      "Kupyna-384 12-bit: 0.4442 seconds\n",
      "Kupyna-384 13-bit: 0.5302 seconds\n",
      "Kupyna-384 14-bit: 0.5100 seconds\n",
      "Kupyna-384 15-bit: 0.4809 seconds\n",
      "Kupyna-512 5-bit: 0.0356 seconds\n",
      "Kupyna-512 6-bit: 0.0368 seconds\n",
      "Kupyna-512 7-bit: 0.0336 seconds\n",
      "Kupyna-512 8-bit: 0.1260 seconds\n",
      "Kupyna-512 9-bit: 0.1193 seconds\n",
      "Kupyna-512 10-bit: 0.1130 seconds\n",
      "Kupyna-512 11-bit: 0.1310 seconds\n",
      "Kupyna-512 12-bit: 0.4997 seconds\n",
      "Kupyna-512 13-bit: 0.4801 seconds\n",
      "Kupyna-512 14-bit: 0.4634 seconds\n",
      "Kupyna-512 15-bit: 0.4770 seconds\n"
     ]
    }
   ],
   "source": [
    "import random\n",
    "import string\n",
    "import time\n",
    "\n",
    "def random_string(length=20):\n",
    "    \"\"\"Generate a random string of fixed length.\"\"\"\n",
    "    letters = string.ascii_letters + string.digits\n",
    "    return ''.join(random.choice(letters) for i in range(length))\n",
    "\n",
    "def find_partial_collision(k, hash_function):\n",
    "    seen_hashes = {}\n",
    "    while True:\n",
    "        s = random_string()\n",
    "        hashed = hash_function.hash(s)\n",
    "        prefix = hashed[:k // 4]  # k//4 because 2 hex digits represent 1 byte (8 bits), thus for k bits we need k//4 hex digits\n",
    "        \n",
    "        if prefix in seen_hashes and seen_hashes[prefix] != s:\n",
    "            return (s, seen_hashes[prefix], prefix)\n",
    "        seen_hashes[prefix] = s\n",
    "\n",
    "def collision_experiment(hash_function, name, k_values=range(5, 16)):\n",
    "    results = []\n",
    "    for k in k_values:\n",
    "        times = []\n",
    "        for _ in range(100):\n",
    "            start_time = time.time()\n",
    "            collision = find_partial_collision(k, hash_function)\n",
    "            elapsed_time = time.time() - start_time\n",
    "            times.append(elapsed_time)\n",
    "        avg_time = sum(times) / len(times)\n",
    "        results.append((k, avg_time))\n",
    "        print(f\"{name} {k}-bit: {avg_time:.4f} seconds\")\n",
    "    return results\n",
    "\n",
    "\n",
    "for hash_nbits in [256, 384, 512]:\n",
    "    hash_func = Kupyna(hash_nbits)\n",
    "    results = collision_experiment(hash_func, f\"Kupyna-{hash_nbits}\")"
   ]
  }
 ],
 "metadata": {
  "kernelspec": {
   "display_name": "Python 3",
   "language": "python",
   "name": "python3"
  },
  "language_info": {
   "codemirror_mode": {
    "name": "ipython",
    "version": 3
   },
   "file_extension": ".py",
   "mimetype": "text/x-python",
   "name": "python",
   "nbconvert_exporter": "python",
   "pygments_lexer": "ipython3",
   "version": "3.12.2"
  }
 },
 "nbformat": 4,
 "nbformat_minor": 2
}
